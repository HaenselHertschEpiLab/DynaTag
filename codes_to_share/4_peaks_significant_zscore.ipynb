{
 "cells": [
  {
   "cell_type": "code",
   "execution_count": 1,
   "metadata": {},
   "outputs": [],
   "source": [
    "import numpy as np\n",
    "import matplotlib.pyplot as plt\n",
    "import pandas as pd\n",
    "import seaborn as sns\n"
   ]
  },
  {
   "cell_type": "code",
   "execution_count": 2,
   "metadata": {},
   "outputs": [],
   "source": [
    "MYC_zscores = pd.read_csv(\"master_peak_ZSCOREresults_MYC_ESC_EpiLC_60nt_REVIEW_NORMALIZED.txt\", sep='\\t') #, index_col=0\n",
    "NANOG_zscores = pd.read_csv(\"master_peak_ZSCOREresults_NANOG_ESC_EpiLC_60nt_REVIEW_NORMALIZED.txt\", sep='\\t') #, index_col=0\n",
    "OCT4_zscores = pd.read_csv(\"master_peak_ZSCOREresults_OCT4_ESC_EpiLC_60nt_REVIEW_NORMALIZED.txt\", sep='\\t') #, index_col=0"
   ]
  },
  {
   "cell_type": "code",
   "execution_count": 4,
   "metadata": {},
   "outputs": [],
   "source": [
    "MYC_zscores['region'] = MYC_zscores['chr'] + ':' + MYC_zscores['start'].astype(str) + '-' + MYC_zscores['end'].astype(str)\n",
    "NANOG_zscores['region'] = NANOG_zscores['chr'] + ':' + NANOG_zscores['start'].astype(str) + '-' + NANOG_zscores['end'].astype(str)\n",
    "OCT4_zscores['region'] = OCT4_zscores['chr'] + ':' + OCT4_zscores['start'].astype(str) + '-' + OCT4_zscores['end'].astype(str)\n",
    "\n",
    "#MYC_zscores.head()"
   ]
  },
  {
   "cell_type": "code",
   "execution_count": 5,
   "metadata": {},
   "outputs": [
    {
     "data": {
      "text/html": [
       "<div>\n",
       "<style scoped>\n",
       "    .dataframe tbody tr th:only-of-type {\n",
       "        vertical-align: middle;\n",
       "    }\n",
       "\n",
       "    .dataframe tbody tr th {\n",
       "        vertical-align: top;\n",
       "    }\n",
       "\n",
       "    .dataframe thead th {\n",
       "        text-align: right;\n",
       "    }\n",
       "</style>\n",
       "<table border=\"1\" class=\"dataframe\">\n",
       "  <thead>\n",
       "    <tr style=\"text-align: right;\">\n",
       "      <th></th>\n",
       "      <th>region</th>\n",
       "      <th>z-score</th>\n",
       "      <th>adjusted p-value</th>\n",
       "    </tr>\n",
       "  </thead>\n",
       "  <tbody>\n",
       "    <tr>\n",
       "      <th>0</th>\n",
       "      <td>chr1:3000354-3000621</td>\n",
       "      <td>0.000000</td>\n",
       "      <td>1.000000e+00</td>\n",
       "    </tr>\n",
       "    <tr>\n",
       "      <th>1</th>\n",
       "      <td>chr1:3344239-3344375</td>\n",
       "      <td>10.872818</td>\n",
       "      <td>4.480221e-27</td>\n",
       "    </tr>\n",
       "    <tr>\n",
       "      <th>2</th>\n",
       "      <td>chr1:3423800-3424266</td>\n",
       "      <td>-23.457445</td>\n",
       "      <td>3.453896e-121</td>\n",
       "    </tr>\n",
       "    <tr>\n",
       "      <th>3</th>\n",
       "      <td>chr1:3483016-3483312</td>\n",
       "      <td>0.952375</td>\n",
       "      <td>5.651211e-01</td>\n",
       "    </tr>\n",
       "    <tr>\n",
       "      <th>4</th>\n",
       "      <td>chr1:3671770-3672445</td>\n",
       "      <td>-1.297719</td>\n",
       "      <td>3.602947e-01</td>\n",
       "    </tr>\n",
       "  </tbody>\n",
       "</table>\n",
       "</div>"
      ],
      "text/plain": [
       "                 region    z-score  adjusted p-value\n",
       "0  chr1:3000354-3000621   0.000000      1.000000e+00\n",
       "1  chr1:3344239-3344375  10.872818      4.480221e-27\n",
       "2  chr1:3423800-3424266 -23.457445     3.453896e-121\n",
       "3  chr1:3483016-3483312   0.952375      5.651211e-01\n",
       "4  chr1:3671770-3672445  -1.297719      3.602947e-01"
      ]
     },
     "execution_count": 5,
     "metadata": {},
     "output_type": "execute_result"
    }
   ],
   "source": [
    "MYC_zscores_pvals=MYC_zscores[['region','z-score','adjusted p-value']]\n",
    "NANOG_zscores_pvals=NANOG_zscores[['region','z-score','adjusted p-value']]\n",
    "OCT4_zscores_pvals=OCT4_zscores[['region','z-score','adjusted p-value']]\n",
    "#MYC_zscores_pvals.head()\n",
    "NANOG_zscores_pvals.head()"
   ]
  },
  {
   "cell_type": "code",
   "execution_count": 6,
   "metadata": {},
   "outputs": [],
   "source": [
    "MYC_zscores_pvals.set_index('region', inplace=True)\n",
    "NANOG_zscores_pvals.set_index('region', inplace=True)\n",
    "OCT4_zscores_pvals.set_index('region', inplace=True)\n",
    "#MYC_zscores_pvals.head()"
   ]
  },
  {
   "cell_type": "code",
   "execution_count": null,
   "metadata": {},
   "outputs": [
    {
     "name": "stdout",
     "output_type": "stream",
     "text": [
      "(24892, 2)\n",
      "(24892, 2)\n",
      "(24892, 2)\n",
      "(9660, 2)\n",
      "(9842, 2)\n",
      "(10811, 2)\n"
     ]
    },
    {
     "data": {
      "text/html": [
       "<div>\n",
       "<style scoped>\n",
       "    .dataframe tbody tr th:only-of-type {\n",
       "        vertical-align: middle;\n",
       "    }\n",
       "\n",
       "    .dataframe tbody tr th {\n",
       "        vertical-align: top;\n",
       "    }\n",
       "\n",
       "    .dataframe thead th {\n",
       "        text-align: right;\n",
       "    }\n",
       "</style>\n",
       "<table border=\"1\" class=\"dataframe\">\n",
       "  <thead>\n",
       "    <tr style=\"text-align: right;\">\n",
       "      <th></th>\n",
       "      <th>z-score</th>\n",
       "      <th>adjusted p-value</th>\n",
       "    </tr>\n",
       "    <tr>\n",
       "      <th>region</th>\n",
       "      <th></th>\n",
       "      <th></th>\n",
       "    </tr>\n",
       "  </thead>\n",
       "  <tbody>\n",
       "    <tr>\n",
       "      <th>chr1:3000354-3000621</th>\n",
       "      <td>-30.614724</td>\n",
       "      <td>3.466940e-205</td>\n",
       "    </tr>\n",
       "    <tr>\n",
       "      <th>chr1:3344239-3344375</th>\n",
       "      <td>183.181035</td>\n",
       "      <td>0.000000e+00</td>\n",
       "    </tr>\n",
       "    <tr>\n",
       "      <th>chr1:3483016-3483312</th>\n",
       "      <td>-35.570955</td>\n",
       "      <td>2.351666e-276</td>\n",
       "    </tr>\n",
       "    <tr>\n",
       "      <th>chr1:3671770-3672445</th>\n",
       "      <td>-37.863477</td>\n",
       "      <td>0.000000e+00</td>\n",
       "    </tr>\n",
       "    <tr>\n",
       "      <th>chr1:4059428-4059590</th>\n",
       "      <td>20.833638</td>\n",
       "      <td>6.698614e-96</td>\n",
       "    </tr>\n",
       "  </tbody>\n",
       "</table>\n",
       "</div>"
      ],
      "text/plain": [
       "                         z-score  adjusted p-value\n",
       "region                                            \n",
       "chr1:3000354-3000621  -30.614724     3.466940e-205\n",
       "chr1:3344239-3344375  183.181035      0.000000e+00\n",
       "chr1:3483016-3483312  -35.570955     2.351666e-276\n",
       "chr1:3671770-3672445  -37.863477      0.000000e+00\n",
       "chr1:4059428-4059590   20.833638      6.698614e-96"
      ]
     },
     "metadata": {},
     "output_type": "display_data"
    },
    {
     "data": {
      "text/plain": [
       "(10811, 2)"
      ]
     },
     "execution_count": 16,
     "metadata": {},
     "output_type": "execute_result"
    }
   ],
   "source": [
    "cutoff = 0.001 #0.01 \n",
    "\n",
    "print(MYC_zscores_pvals.shape)\n",
    "print(NANOG_zscores_pvals.shape)\n",
    "print(OCT4_zscores_pvals.shape)\n",
    "\n",
    "MYC_zscores_pvals_sig = MYC_zscores_pvals[MYC_zscores_pvals['adjusted p-value'] <= cutoff]\n",
    "NANOG_zscores_pvals_sig = NANOG_zscores_pvals[NANOG_zscores_pvals['adjusted p-value'] <= cutoff]\n",
    "OCT4_zscores_pvals_sig = OCT4_zscores_pvals[OCT4_zscores_pvals['adjusted p-value'] <= cutoff]\n",
    "\n",
    "print(MYC_zscores_pvals_sig.shape)\n",
    "print(NANOG_zscores_pvals_sig.shape)\n",
    "print(OCT4_zscores_pvals_sig.shape)\n",
    "\n",
    "display(MYC_zscores_pvals_sig.head())\n",
    "\n",
    "#NANOG_zscores_pvals_sig\n",
    "\n",
    "# 0.01\n",
    "#(10048, 2)\n",
    "#(10328, 2)\n",
    "#(11041, 2)\n",
    "\n",
    "# 0.001\n",
    "(9660, 2)\n",
    "(9842, 2)\n",
    "(10811, 2)\n",
    "\n",
    "\n"
   ]
  },
  {
   "cell_type": "code",
   "execution_count": 8,
   "metadata": {},
   "outputs": [],
   "source": [
    "MYC_zscores_pvals_sig.to_csv('MYC_zscores_pvals_sig_REVIEW_NORMALIZED.txt', sep='\\t')\n",
    "NANOG_zscores_pvals_sig.to_csv('NANOG_zscores_pvals_sig_REVIEW_NORMALIZED.txt', sep='\\t')\n",
    "OCT4_zscores_pvals_sig.to_csv('OCT4_zscores_pvals_sig_REVIEW_NORMALIZED.txt', sep='\\t')\n",
    "\n"
   ]
  }
 ],
 "metadata": {
  "kernelspec": {
   "display_name": "scanpy",
   "language": "python",
   "name": "python3"
  },
  "language_info": {
   "codemirror_mode": {
    "name": "ipython",
    "version": 3
   },
   "file_extension": ".py",
   "mimetype": "text/x-python",
   "name": "python",
   "nbconvert_exporter": "python",
   "pygments_lexer": "ipython3",
   "version": "3.10.16"
  }
 },
 "nbformat": 4,
 "nbformat_minor": 2
}
